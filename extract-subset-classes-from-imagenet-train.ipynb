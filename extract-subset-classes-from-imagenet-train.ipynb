{
 "cells": [
  {
   "cell_type": "markdown",
   "id": "37ca5b1c",
   "metadata": {
    "papermill": {
     "duration": 0.003901,
     "end_time": "2023-12-05T15:27:24.109107",
     "exception": false,
     "start_time": "2023-12-05T15:27:24.105206",
     "status": "completed"
    },
    "tags": []
   },
   "source": [
    "## Purpose\n",
    "\n",
    "This source code is modified from the original source to download only a subset of the original ImageNet images for custom image classification usage.\n",
    "\n",
    "The classes we will be looking at are Laptop, Monitor, Keyboard, Mouse, Football Ball (Soccer Ball), Bee, Electric locomotive."
   ]
  },
  {
   "cell_type": "code",
   "execution_count": 1,
   "id": "6b3ff35e",
   "metadata": {
    "execution": {
     "iopub.execute_input": "2023-12-05T15:27:24.118023Z",
     "iopub.status.busy": "2023-12-05T15:27:24.116996Z",
     "iopub.status.idle": "2023-12-05T15:27:24.133560Z",
     "shell.execute_reply": "2023-12-05T15:27:24.132254Z"
    },
    "papermill": {
     "duration": 0.024395,
     "end_time": "2023-12-05T15:27:24.136565",
     "exception": false,
     "start_time": "2023-12-05T15:27:24.112170",
     "status": "completed"
    },
    "tags": []
   },
   "outputs": [],
   "source": [
    "import os\n",
    "import shutil\n",
    "from tqdm import tqdm\n",
    "import random\n",
    "import numpy as np\n",
    "\n",
    "\n",
    "# Extract random images from training folder. The original dataset contains all 1000 classes, \n",
    "# and we only wanted to classify a subset of classes:\n",
    "# [\"Laptop\", \"Monitor\", \"Keyboard\", \"Mouse\", \"Soccer Ball\", \"Bee\", \"Train\"]\n",
    "train_path = \"/kaggle/input/imagenet-object-localization-challenge/ILSVRC/Data/CLS-LOC/train/\"\n",
    "\n",
    "# The full list of ImageNet index and class names pairs can be found online, search \"imagenet_class_index.json\".\n",
    "# subfolders contain the index for our subset of classes as below:\n",
    "subfolders = [\"n03642806\", \"n03782006\", \"n03085013\", \"n03793489\", \"n04254680\", \"n02206856\", \"n03272562\"]"
   ]
  },
  {
   "cell_type": "code",
   "execution_count": 2,
   "id": "abfcee88",
   "metadata": {
    "execution": {
     "iopub.execute_input": "2023-12-05T15:27:24.144770Z",
     "iopub.status.busy": "2023-12-05T15:27:24.144061Z",
     "iopub.status.idle": "2023-12-05T15:28:20.612866Z",
     "shell.execute_reply": "2023-12-05T15:28:20.611619Z"
    },
    "papermill": {
     "duration": 56.479034,
     "end_time": "2023-12-05T15:28:20.618777",
     "exception": false,
     "start_time": "2023-12-05T15:27:24.139743",
     "status": "completed"
    },
    "tags": []
   },
   "outputs": [
    {
     "data": {
      "text/plain": [
       "'/kaggle/working/imagenet_subset_train.zip'"
      ]
     },
     "execution_count": 2,
     "metadata": {},
     "output_type": "execute_result"
    }
   ],
   "source": [
    "## download only 500 images from specific classes\n",
    "ex_per_class = 500\n",
    "output_train_folder = \"/kaggle/working/imagenet_subset/train/\"\n",
    "\n",
    "for folder in subfolders:\n",
    "    # create a subfolder in output_train_folder\n",
    "    os.makedirs(os.path.join(output_train_folder, folder))\n",
    "    folder_path = os.path.join(train_path, folder)\n",
    "    folder_files = os.listdir(folder_path)\n",
    "    \n",
    "    # Select random images\n",
    "    selected_files = np.random.choice(folder_files, ex_per_class, replace=False)\n",
    "    \n",
    "    # Copy selected files to output subfolder\n",
    "    for filename in selected_files:\n",
    "        shutil.copy2(\n",
    "            os.path.join(folder_path, filename),\n",
    "            os.path.join(output_train_folder, folder),\n",
    "        )\n",
    "\n",
    "# Compress the output folder\n",
    "shutil.make_archive(\"imagenet_subset_train\", 'zip', output_train_folder)"
   ]
  },
  {
   "cell_type": "markdown",
   "id": "f9da52d3",
   "metadata": {
    "papermill": {
     "duration": 0.00286,
     "end_time": "2023-12-05T15:28:20.624534",
     "exception": false,
     "start_time": "2023-12-05T15:28:20.621674",
     "status": "completed"
    },
    "tags": []
   },
   "source": [
    "## Download\n",
    "\n",
    "To download a copy of the subset files from Kaggle, after running this source code, go to right sidebar and look under \"Data\" > \"Output\" > \"\"/kaggle/working/imagenet_subset/train/\" > imagenet_subset_train.zip"
   ]
  },
  {
   "cell_type": "code",
   "execution_count": null,
   "id": "745e7993",
   "metadata": {
    "papermill": {
     "duration": 0.002561,
     "end_time": "2023-12-05T15:28:20.629947",
     "exception": false,
     "start_time": "2023-12-05T15:28:20.627386",
     "status": "completed"
    },
    "tags": []
   },
   "outputs": [],
   "source": []
  }
 ],
 "metadata": {
  "kaggle": {
   "accelerator": "none",
   "dataSources": [
    {
     "databundleVersionId": 4225553,
     "sourceId": 6799,
     "sourceType": "competition"
    }
   ],
   "dockerImageVersionId": 30357,
   "isGpuEnabled": false,
   "isInternetEnabled": true,
   "language": "python",
   "sourceType": "notebook"
  },
  "kernelspec": {
   "display_name": "Python 3",
   "language": "python",
   "name": "python3"
  },
  "language_info": {
   "codemirror_mode": {
    "name": "ipython",
    "version": 3
   },
   "file_extension": ".py",
   "mimetype": "text/x-python",
   "name": "python",
   "nbconvert_exporter": "python",
   "pygments_lexer": "ipython3",
   "version": "3.7.12"
  },
  "papermill": {
   "default_parameters": {},
   "duration": 68.239015,
   "end_time": "2023-12-05T15:28:21.355306",
   "environment_variables": {},
   "exception": null,
   "input_path": "__notebook__.ipynb",
   "output_path": "__notebook__.ipynb",
   "parameters": {},
   "start_time": "2023-12-05T15:27:13.116291",
   "version": "2.3.4"
  }
 },
 "nbformat": 4,
 "nbformat_minor": 5
}
