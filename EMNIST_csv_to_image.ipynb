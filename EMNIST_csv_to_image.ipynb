{
 "cells": [
  {
   "cell_type": "code",
   "execution_count": 1,
   "id": "f17c25f1",
   "metadata": {},
   "outputs": [],
   "source": [
    "import pandas as pd\n",
    "from PIL import Image\n",
    "import numpy as np\n",
    "import string\n",
    "import os"
   ]
  },
  {
   "cell_type": "code",
   "execution_count": 2,
   "id": "b3fb2749",
   "metadata": {},
   "outputs": [
    {
     "data": {
      "text/html": [
       "<div>\n",
       "<style scoped>\n",
       "    .dataframe tbody tr th:only-of-type {\n",
       "        vertical-align: middle;\n",
       "    }\n",
       "\n",
       "    .dataframe tbody tr th {\n",
       "        vertical-align: top;\n",
       "    }\n",
       "\n",
       "    .dataframe thead th {\n",
       "        text-align: right;\n",
       "    }\n",
       "</style>\n",
       "<table border=\"1\" class=\"dataframe\">\n",
       "  <thead>\n",
       "    <tr style=\"text-align: right;\">\n",
       "      <th></th>\n",
       "      <th>23</th>\n",
       "      <th>0</th>\n",
       "      <th>0.1</th>\n",
       "      <th>0.2</th>\n",
       "      <th>0.3</th>\n",
       "      <th>0.4</th>\n",
       "      <th>0.5</th>\n",
       "      <th>0.6</th>\n",
       "      <th>0.7</th>\n",
       "      <th>0.8</th>\n",
       "      <th>...</th>\n",
       "      <th>0.406</th>\n",
       "      <th>0.407</th>\n",
       "      <th>0.408</th>\n",
       "      <th>0.409</th>\n",
       "      <th>0.410</th>\n",
       "      <th>0.411</th>\n",
       "      <th>0.412</th>\n",
       "      <th>0.413</th>\n",
       "      <th>0.414</th>\n",
       "      <th>0.415</th>\n",
       "    </tr>\n",
       "  </thead>\n",
       "  <tbody>\n",
       "    <tr>\n",
       "      <th>0</th>\n",
       "      <td>7</td>\n",
       "      <td>0</td>\n",
       "      <td>0</td>\n",
       "      <td>0</td>\n",
       "      <td>0</td>\n",
       "      <td>0</td>\n",
       "      <td>0</td>\n",
       "      <td>0</td>\n",
       "      <td>0</td>\n",
       "      <td>0</td>\n",
       "      <td>...</td>\n",
       "      <td>0</td>\n",
       "      <td>0</td>\n",
       "      <td>0</td>\n",
       "      <td>0</td>\n",
       "      <td>0</td>\n",
       "      <td>0</td>\n",
       "      <td>0</td>\n",
       "      <td>0</td>\n",
       "      <td>0</td>\n",
       "      <td>0</td>\n",
       "    </tr>\n",
       "    <tr>\n",
       "      <th>1</th>\n",
       "      <td>16</td>\n",
       "      <td>0</td>\n",
       "      <td>0</td>\n",
       "      <td>0</td>\n",
       "      <td>0</td>\n",
       "      <td>0</td>\n",
       "      <td>0</td>\n",
       "      <td>0</td>\n",
       "      <td>0</td>\n",
       "      <td>0</td>\n",
       "      <td>...</td>\n",
       "      <td>0</td>\n",
       "      <td>0</td>\n",
       "      <td>0</td>\n",
       "      <td>0</td>\n",
       "      <td>0</td>\n",
       "      <td>0</td>\n",
       "      <td>0</td>\n",
       "      <td>0</td>\n",
       "      <td>0</td>\n",
       "      <td>0</td>\n",
       "    </tr>\n",
       "    <tr>\n",
       "      <th>2</th>\n",
       "      <td>15</td>\n",
       "      <td>0</td>\n",
       "      <td>0</td>\n",
       "      <td>0</td>\n",
       "      <td>0</td>\n",
       "      <td>0</td>\n",
       "      <td>0</td>\n",
       "      <td>0</td>\n",
       "      <td>0</td>\n",
       "      <td>0</td>\n",
       "      <td>...</td>\n",
       "      <td>0</td>\n",
       "      <td>0</td>\n",
       "      <td>0</td>\n",
       "      <td>0</td>\n",
       "      <td>0</td>\n",
       "      <td>0</td>\n",
       "      <td>0</td>\n",
       "      <td>0</td>\n",
       "      <td>0</td>\n",
       "      <td>0</td>\n",
       "    </tr>\n",
       "    <tr>\n",
       "      <th>3</th>\n",
       "      <td>23</td>\n",
       "      <td>0</td>\n",
       "      <td>0</td>\n",
       "      <td>0</td>\n",
       "      <td>0</td>\n",
       "      <td>0</td>\n",
       "      <td>0</td>\n",
       "      <td>0</td>\n",
       "      <td>0</td>\n",
       "      <td>0</td>\n",
       "      <td>...</td>\n",
       "      <td>0</td>\n",
       "      <td>0</td>\n",
       "      <td>0</td>\n",
       "      <td>0</td>\n",
       "      <td>0</td>\n",
       "      <td>0</td>\n",
       "      <td>0</td>\n",
       "      <td>0</td>\n",
       "      <td>0</td>\n",
       "      <td>0</td>\n",
       "    </tr>\n",
       "    <tr>\n",
       "      <th>4</th>\n",
       "      <td>17</td>\n",
       "      <td>0</td>\n",
       "      <td>0</td>\n",
       "      <td>0</td>\n",
       "      <td>0</td>\n",
       "      <td>0</td>\n",
       "      <td>0</td>\n",
       "      <td>0</td>\n",
       "      <td>0</td>\n",
       "      <td>0</td>\n",
       "      <td>...</td>\n",
       "      <td>0</td>\n",
       "      <td>0</td>\n",
       "      <td>0</td>\n",
       "      <td>0</td>\n",
       "      <td>0</td>\n",
       "      <td>0</td>\n",
       "      <td>0</td>\n",
       "      <td>0</td>\n",
       "      <td>0</td>\n",
       "      <td>0</td>\n",
       "    </tr>\n",
       "  </tbody>\n",
       "</table>\n",
       "<p>5 rows × 785 columns</p>\n",
       "</div>"
      ],
      "text/plain": [
       "   23  0  0.1  0.2  0.3  0.4  0.5  0.6  0.7  0.8  ...  0.406  0.407  0.408  \\\n",
       "0   7  0    0    0    0    0    0    0    0    0  ...      0      0      0   \n",
       "1  16  0    0    0    0    0    0    0    0    0  ...      0      0      0   \n",
       "2  15  0    0    0    0    0    0    0    0    0  ...      0      0      0   \n",
       "3  23  0    0    0    0    0    0    0    0    0  ...      0      0      0   \n",
       "4  17  0    0    0    0    0    0    0    0    0  ...      0      0      0   \n",
       "\n",
       "   0.409  0.410  0.411  0.412  0.413  0.414  0.415  \n",
       "0      0      0      0      0      0      0      0  \n",
       "1      0      0      0      0      0      0      0  \n",
       "2      0      0      0      0      0      0      0  \n",
       "3      0      0      0      0      0      0      0  \n",
       "4      0      0      0      0      0      0      0  \n",
       "\n",
       "[5 rows x 785 columns]"
      ]
     },
     "execution_count": 2,
     "metadata": {},
     "output_type": "execute_result"
    }
   ],
   "source": [
    "path = './emnist_subset/emnist-letters-train.csv'\n",
    "df = pd.read_csv(path)\n",
    "df.head()"
   ]
  },
  {
   "cell_type": "markdown",
   "id": "570b3ba8-0f2c-4459-afcb-994187eb0a6b",
   "metadata": {},
   "source": [
    "## Extract only data containing letters M or T\n",
    "Each row is an image of an alphabet, where the identify of the alphabet is contained in the first column \"23\".\n",
    "\n",
    "To extract only letters M and T, the index for M and T can be found using Python string.ascii_letters, and then passed as the filter conditions for the extraction."
   ]
  },
  {
   "cell_type": "code",
   "execution_count": 3,
   "id": "a4d1b8ec-d3a3-48e4-9a91-79622e952572",
   "metadata": {},
   "outputs": [
    {
     "name": "stdout",
     "output_type": "stream",
     "text": [
      "\n",
      "Unique keys in df:\n",
      "  [1, 2, 3, 4, 5, 6, 7, 8, 9, 10, 11, 12, 13, 14, 15, 16, 17, 18, 19, 20, 21, 22, 23, 24, 25, 26]\n",
      "string.ascii_letters :  abcdefghijklmnopqrstuvwxyzABCDEFGHIJKLMNOPQRSTUVWXYZ\n",
      "\n",
      "Positions of M and T in string.ascii_letters: 13 and 20.\n"
     ]
    }
   ],
   "source": [
    "print(\"\\nUnique keys in df:\\n \",sorted(df['23'].unique()))\n",
    "\n",
    "print(\"string.ascii_letters : \", string.ascii_letters)\n",
    "# Add 1 since index returned begins from 0, not 1.\n",
    "key_m = string.ascii_letters.find('m') + 1\n",
    "key_t = string.ascii_letters.find('t') + 1\n",
    "print(\"\\nPositions of M and T in string.ascii_letters: {} and {}.\".format(key_m, key_t))\n",
    "\n",
    "df_m = df.loc[df['23']== key_m, :]\n",
    "df_t = df.loc[df['23']== key_t, :]"
   ]
  },
  {
   "cell_type": "code",
   "execution_count": 4,
   "id": "90cfe393",
   "metadata": {},
   "outputs": [
    {
     "data": {
      "text/plain": [
       "(500, 784)"
      ]
     },
     "execution_count": 4,
     "metadata": {},
     "output_type": "execute_result"
    }
   ],
   "source": [
    "df_m = df_m.iloc[0:500, 1:].to_numpy()\n",
    "df_m.shape"
   ]
  },
  {
   "cell_type": "code",
   "execution_count": 5,
   "id": "f1781de6",
   "metadata": {},
   "outputs": [
    {
     "data": {
      "text/plain": [
       "(500, 784)"
      ]
     },
     "execution_count": 5,
     "metadata": {},
     "output_type": "execute_result"
    }
   ],
   "source": [
    "df_t = df_t.iloc[0:500, 1:].to_numpy()\n",
    "df_t.shape"
   ]
  },
  {
   "cell_type": "markdown",
   "id": "9cb3cc5b-c25d-46cc-81b3-912247c19a5f",
   "metadata": {},
   "source": [
    "## Array to Image conversion\n",
    "\n",
    "Each filtered row is then converted into a JPEG image in RGB format."
   ]
  },
  {
   "cell_type": "code",
   "execution_count": 6,
   "id": "bfdd9f0c",
   "metadata": {},
   "outputs": [],
   "source": [
    "def csv2images(row, output_folder, subfolder, count):\n",
    "    # create new subfolder (ignore if exist), new file name\n",
    "    image_Folder_Path = os.path.join(output_folder, subfolder)\n",
    "    os.makedirs(image_Folder_Path, exist_ok=True)\n",
    "    image_Path = image_Folder_Path + '/' + str(count) + '.jpg'\n",
    "    \n",
    "    #reshape a 784 array into 28 x 28 matrix\n",
    "    # EMNIST data requires transpose to display correctly\n",
    "    # convert from original greyscale mode to RGB mode \n",
    "    image_array = np.asarray(row)\n",
    "    image_array = image_array.reshape(28, 28).T\n",
    "    new_image = Image.fromarray(image_array.astype('uint8')).convert('RGB')\n",
    "\n",
    "    new_image.save(image_Path)\n",
    "    "
   ]
  },
  {
   "cell_type": "code",
   "execution_count": 7,
   "id": "ef3dcc00",
   "metadata": {},
   "outputs": [],
   "source": [
    "folder = './emnist_subset/'\n",
    "folderpath_m = 'letter_M/'\n",
    "\n",
    "count=0\n",
    "for m in df_m:\n",
    "    count += 1\n",
    "    csv2images(m, folder, folderpath_m, count)"
   ]
  },
  {
   "cell_type": "code",
   "execution_count": 8,
   "id": "97a8c922",
   "metadata": {},
   "outputs": [],
   "source": [
    "folderpath_t = 'letter_T/'\n",
    "\n",
    "count=0\n",
    "for t in df_t:\n",
    "    count += 1\n",
    "    csv2images(t, folder, folderpath_t, count)"
   ]
  },
  {
   "cell_type": "code",
   "execution_count": 9,
   "id": "e253c43d-5dcd-4b5c-9080-cee7139f7bac",
   "metadata": {},
   "outputs": [
    {
     "name": "stdout",
     "output_type": "stream",
     "text": [
      "Color bands of image ./emnist_subset/letter_M/14.jpg : ('R', 'G', 'B')\n",
      "Is the image a greyscale actually? True\n"
     ]
    }
   ],
   "source": [
    "# Test a random image to see if it's RGB\n",
    "\n",
    "def is_grey_scale(img_path):\n",
    "    img = Image.open(img_path)\n",
    "    print( \"Color bands of image {} : {}\".format(img_path, img.getbands()) )\n",
    "    w, h = img.size\n",
    "    for i in range(w):\n",
    "        for j in range(h):\n",
    "            r, g, b = img.getpixel((i,j))\n",
    "            if r != g != b: \n",
    "                return False\n",
    "    return True\n",
    "\n",
    "f_name='./emnist_subset/letter_M/14.jpg'\n",
    "print(\"Is the image a greyscale actually? {}\".format(is_grey_scale(f_name)))"
   ]
  },
  {
   "cell_type": "code",
   "execution_count": null,
   "id": "c9f0260e-7077-49c5-ab8c-0d89c7dd2a2a",
   "metadata": {},
   "outputs": [],
   "source": []
  }
 ],
 "metadata": {
  "kernelspec": {
   "display_name": "Python 3 (ipykernel)",
   "language": "python",
   "name": "python3"
  },
  "language_info": {
   "codemirror_mode": {
    "name": "ipython",
    "version": 3
   },
   "file_extension": ".py",
   "mimetype": "text/x-python",
   "name": "python",
   "nbconvert_exporter": "python",
   "pygments_lexer": "ipython3",
   "version": "3.10.8"
  }
 },
 "nbformat": 4,
 "nbformat_minor": 5
}
